{
 "cells": [
  {
   "cell_type": "code",
   "execution_count": 1,
   "metadata": {
    "collapsed": true
   },
   "outputs": [],
   "source": [
    "%matplotlib inline\n",
    "import numpy as np\n",
    "import os\n",
    "import pandas\n",
    "import seaborn\n",
    "import items as itemmaker\n",
    "from glob import glob\n",
    "from math import sqrt\n",
    "from matplotlib import pyplot\n",
    "from matplotlib import ticker\n",
    "from mpl_toolkits.mplot3d import Axes3D\n",
    "from openpyxl import load_workbook\n",
    "import analyze"
   ]
  },
  {
   "cell_type": "code",
   "execution_count": 3,
   "metadata": {
    "collapsed": false
   },
   "outputs": [
    {
     "name": "stdout",
     "output_type": "stream",
     "text": [
      "Analyzing Experiment08\n"
     ]
    }
   ],
   "source": [
    "nop = 4\n",
    "runs = 20\n",
    "folders = ['/Users/gelliebeenz/Documents/Python/ObjectiveMethod/Static/NSGA-II/',\n",
    "           '/Users/gelliebeenz/Documents/Python/ObjectiveMethod/Static/MOMAD/',\n",
    "           '/Users/gelliebeenz/Documents/Python/ObjectiveMethod/Static/MOEPSO/',\n",
    "           '/Users/gelliebeenz/Documents/Python/ObjectiveMethod/Static/MOMA/',\n",
    "           '/Users/gelliebeenz/Documents/Python/ObjectiveMethod/Analysis/']\n",
    "files = ['ApproximationSet.csv', 'ApproximationSet.csv',\n",
    "         'ApproximationSet.csv', 'ApproximationSet.csv']\n",
    "levels = ['SBSBPP500/']\n",
    "levellabels = ['500 Items']\n",
    "methods = ['NSGA-II', 'MOMAD', 'MOEPSO', 'MOMA']\n",
    "colors = ['#49ADA2', '#7797F4', '#C973F4', '#EF6E8B', '#FFAA6C']\n",
    "solsindex = ['level', 'number', 'method']\n",
    "dfsolseries = []\n",
    "seaborn.set(font_scale=1.25)\n",
    "lvl = 0\n",
    "r = 7\n",
    "print('Analyzing Experiment{0:02d}'.format(r + 1))\n",
    "runfolds = analyze.listfolders(r, lvl, nop, folders, levels)"
   ]
  },
  {
   "cell_type": "code",
   "execution_count": 6,
   "metadata": {
    "collapsed": false
   },
   "outputs": [],
   "source": [
    "data, opcat = analyze.getparetofront(nop, runfolds, files)\n",
    "for opal in range(nop):\n",
    "    method = []\n",
    "    for m in range(len(data[opal])):\n",
    "        method.append(methods[opal])\n",
    "    data[opal]['Method'] = method"
   ]
  },
  {
   "cell_type": "code",
   "execution_count": 26,
   "metadata": {
    "collapsed": false
   },
   "outputs": [],
   "source": [
    "seaborn.set_style('whitegrid')\n",
    "plotname0 = runfolds[nop] + 'ParetoPlot3D'\n",
    "plot0 = pyplot.figure().gca(projection='3d')\n",
    "for opal in range(nop):\n",
    "    plot0.scatter(data[opal]['No. of Bins'], data[opal]['Max. Bin Height'],\n",
    "                  data[opal]['Avg. Bin Weight'], c=colors[opal], label=methods[opal],\n",
    "                  linewidths=1, edgecolor=\"w\", s=40)\n",
    "plot0.set_xlabel(opcat[0], labelpad=10)\n",
    "start, end = plot0.get_xlim()\n",
    "plot0.xaxis.set_ticks(np.arange(start, end, 40))\n",
    "plot0.set_ylabel(opcat[1], labelpad=10)\n",
    "start, end = plot0.get_ylim()\n",
    "plot0.yaxis.set_ticks(np.arange(start, end, 25))\n",
    "plot0.set_zlabel(opcat[2], labelpad=10)\n",
    "plot0.legend(bbox_to_anchor=(0, -1, 1, 1), ncol=nop)\n",
    "plot0.view_init(20, 45)\n",
    "pyplot.savefig(plotname0 + '.eps', format='eps', dpi=2000)\n",
    "pyplot.savefig(plotname0 + '.pdf', format='pdf', dpi=2000)\n",
    "pyplot.close()"
   ]
  },
  {
   "cell_type": "code",
   "execution_count": 68,
   "metadata": {
    "collapsed": false
   },
   "outputs": [],
   "source": [
    "seaborn.set_style('darkgrid')\n",
    "plotname2 = runfolds[nop] + 'ParetoPlot'\n",
    "dataset = pandas.concat(data, keys=methods)\n",
    "scat = seaborn.PairGrid(dataset, hue='Method', palette=seaborn.color_palette(colors),\n",
    "                        hue_kws={\"marker\": [\"o\", \"^\", \"D\", \"s\"]})\n",
    "scat = scat.map_diag(pyplot.hist)\n",
    "scat = scat.map_offdiag(pyplot.scatter, linewidths=1, edgecolor=\"w\", s=40)\n",
    "for ax in scat.axes.flat:\n",
    "    ax.get_xaxis().set_major_formatter(ticker.FuncFormatter(lambda xax, p: format(int(xax))))\n",
    "    start, end = ax.get_xlim()\n",
    "    intervals = round((end - start) / 5, -1)\n",
    "    ax.set(xticks=np.arange(start, end+1, intervals))\n",
    "    start, end = ax.get_ylim()\n",
    "    intervals = round((end - start) / 5, -1)\n",
    "    ax.set(yticks=np.arange(start, end+1, intervals))\n",
    "    pyplot.setp(ax.get_xticklabels(), rotation=45)\n",
    "scat.add_legend(title=None, frameon=True)\n",
    "scat.fig.get_children()[-1].set_bbox_to_anchor((1, 0.878, 0, 0))\n",
    "pyplot.savefig(plotname2+'.eps', format='eps', dpi=4000, bbox_inches='tight')\n",
    "pyplot.savefig(plotname2+'.pdf', format='pdf', dpi=4000, bbox_inches='tight')\n",
    "pyplot.close()"
   ]
  },
  {
   "cell_type": "code",
   "execution_count": 7,
   "metadata": {
    "collapsed": true
   },
   "outputs": [],
   "source": [
    ""
   ]
  },
  {
   "cell_type": "code",
   "execution_count": 8,
   "metadata": {
    "collapsed": false
   },
   "outputs": [],
   "source": [
    ""
   ]
  },
  {
   "cell_type": "code",
   "execution_count": 16,
   "metadata": {
    "collapsed": true
   },
   "outputs": [],
   "source": [
    ""
   ]
  },
  {
   "cell_type": "code",
   "execution_count": 17,
   "metadata": {
    "collapsed": true
   },
   "outputs": [],
   "source": [
    ""
   ]
  },
  {
   "cell_type": "code",
   "execution_count": 18,
   "metadata": {
    "collapsed": true
   },
   "outputs": [],
   "source": [
    ""
   ]
  },
  {
   "cell_type": "code",
   "execution_count": 19,
   "metadata": {
    "collapsed": true
   },
   "outputs": [],
   "source": [
    ""
   ]
  },
  {
   "cell_type": "code",
   "execution_count": 20,
   "metadata": {
    "collapsed": true
   },
   "outputs": [],
   "source": [
    ""
   ]
  },
  {
   "cell_type": "code",
   "execution_count": 9,
   "metadata": {
    "collapsed": false
   },
   "outputs": [],
   "source": [
    ""
   ]
  },
  {
   "cell_type": "code",
   "execution_count": 10,
   "metadata": {
    "collapsed": true
   },
   "outputs": [],
   "source": [
    ""
   ]
  },
  {
   "cell_type": "code",
   "execution_count": 11,
   "metadata": {
    "collapsed": false
   },
   "outputs": [
    {
     "name": "stdout",
     "output_type": "stream",
     "text": [
      "Analyzing Experiment01\n",
      "Analyzing Experiment02\n",
      "Analyzing Experiment03\n",
      "Analyzing Experiment04\n",
      "Analyzing Experiment05\n",
      "Analyzing Experiment06\n",
      "Analyzing Experiment07\n",
      "Analyzing Experiment08\n",
      "Analyzing Experiment09\n",
      "Analyzing Experiment10\n",
      "Analyzing Experiment11\n",
      "Analyzing Experiment12\n",
      "Analyzing Experiment13\n",
      "Analyzing Experiment14\n",
      "Analyzing Experiment15\n",
      "Analyzing Experiment16\n",
      "Analyzing Experiment17\n",
      "Analyzing Experiment18\n",
      "Analyzing Experiment19\n",
      "Analyzing Experiment20\n"
     ]
    }
   ],
   "source": [
    ""
   ]
  },
  {
   "cell_type": "code",
   "execution_count": 12,
   "metadata": {
    "collapsed": false
   },
   "outputs": [],
   "source": [
    ""
   ]
  },
  {
   "cell_type": "code",
   "execution_count": 22,
   "metadata": {
    "collapsed": false
   },
   "outputs": [
    {
     "name": "stdout",
     "output_type": "stream",
     "text": [
      "Combining indicators.\n"
     ]
    }
   ],
   "source": [
    ""
   ]
  },
  {
   "cell_type": "code",
   "execution_count": 36,
   "metadata": {
    "collapsed": false
   },
   "outputs": [
    {
     "data": {
      "image/png": "[encoded data removed]",
      "text/plain": [
       "<matplotlib.figure.Figure at 0x11efb2ad0>"
      ]
     },
     "metadata": {},
     "output_type": "display_data"
    }
   ],
   "source": [
    ""
   ]
  },
  {
   "cell_type": "code",
   "execution_count": null,
   "metadata": {
    "collapsed": true
   },
   "outputs": [],
   "source": [
    ""
   ]
  }
 ],
 "metadata": {
  "anaconda-cloud": {},
  "kernelspec": {
   "display_name": "Python [Root]",
   "language": "python",
   "name": "Python [Root]"
  },
  "language_info": {
   "codemirror_mode": {
    "name": "ipython",
    "version": 2.0
   },
   "file_extension": ".py",
   "mimetype": "text/x-python",
   "name": "python",
   "nbconvert_exporter": "python",
   "pygments_lexer": "ipython2",
   "version": "2.7.11"
  }
 },
 "nbformat": 4,
 "nbformat_minor": 0
}